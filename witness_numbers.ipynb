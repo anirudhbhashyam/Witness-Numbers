{
 "cells": [
  {
   "cell_type": "code",
   "execution_count": 99,
   "metadata": {},
   "outputs": [],
   "source": [
    "import numpy as np\n",
    "import doctest"
   ]
  },
  {
   "cell_type": "code",
   "execution_count": 102,
   "metadata": {},
   "outputs": [],
   "source": [
    "def test_primality(defendant: int, witnesses: iter) -> list:\n",
    "\t\"\"\"\n",
    "\tChecks if defendant is prime.\n",
    " \n",
    "\t>>> test_primality(7919)\n",
    "\t\n",
    "\tParameters\n",
    "\t----------\n",
    "\tdefendant:\t\n",
    " \t\tNumber that needs to\n",
    "\t\tbe checked for \n",
    "\t\tprimality.\n",
    "\twitnesses:\t\n",
    "\t\tNumbers to be used \n",
    "\t\tas witnesses.\n",
    "\t\n",
    "\tReturns\n",
    "\t-------\n",
    "\tPrimality as a boolean.\n",
    "\t\"\"\"\n",
    "\t\n",
    "\tassert sum(1 for n in witnesses if n < 0) == 0, \"Witness numbers need to be positive.\"\n",
    "\tassert defendant % 2 == 1, \"Defendants must be odd.\"\n",
    "\t\n",
    "\t# Choose witness numbers that \n",
    "\t# are less than the defendant.\n",
    "\tif defendant < max(witnesses):\n",
    "\t\twitnesses = witnesses[0 : next(i for i, w in enumerate(witnesses) if w > defendant)]\n",
    " \n",
    "\t# Prepare defendant.\n",
    "\t# Make defendant even.\n",
    "\t# defendant = 2^m * d + 1.\n",
    "\td = defendant - 1\n",
    "\tm = 0\n",
    "\twhile d % 2 == 0:\n",
    "\t\td = d // 2\n",
    "\t\tm += 1\n",
    " \n",
    "\t# Get witness statements.\n",
    "\t# w^d mod defendant.\n",
    "\tfor w in witnesses:\n",
    "\t\twitness_statement = pow(w, d, defendant)\n",
    "\t\t\n",
    "\t\t\n",
    "\t\tif witness_statement == 1 or witness_statement == defendant - 1:\n",
    "\t\t\tcontinue\n",
    "\t\t\n",
    "\t\t# Check if w^d mod defendant = -1\n",
    "\t\tfor i in range(m - 1):\n",
    "\t\t\twitness_statement = pow(witness_statement, 2, defendant)\n",
    "\t\t\tif witness_statement != defendant - 1:\n",
    "\t\t\t\treturn False\n",
    "\n",
    "\treturn True"
   ]
  },
  {
   "cell_type": "code",
   "execution_count": 104,
   "metadata": {},
   "outputs": [
    {
     "data": {
      "text/plain": [
       "True"
      ]
     },
     "execution_count": 104,
     "metadata": {},
     "output_type": "execute_result"
    }
   ],
   "source": [
    "# Witnesses to be used for numbers < 2^64.\n",
    "master_witnesses_10_21 = [2, 3, 5, 7, 11, 13, 17, 19, 23, 29, 31, 37]\n",
    "test_primality(7919, master_witnesses_10_21)\n",
    "    "
   ]
  },
  {
   "cell_type": "code",
   "execution_count": null,
   "metadata": {},
   "outputs": [],
   "source": []
  }
 ],
 "metadata": {
  "interpreter": {
   "hash": "06abd6f173df01cc67518e46e8d6f47a26fcce4fda82d5507cd009e845085f87"
  },
  "kernelspec": {
   "display_name": "Python 3.8.5 64-bit ('mlenv': conda)",
   "language": "python",
   "name": "python3"
  },
  "language_info": {
   "codemirror_mode": {
    "name": "ipython",
    "version": 3
   },
   "file_extension": ".py",
   "mimetype": "text/x-python",
   "name": "python",
   "nbconvert_exporter": "python",
   "pygments_lexer": "ipython3",
   "version": "3.8.5"
  },
  "orig_nbformat": 4
 },
 "nbformat": 4,
 "nbformat_minor": 2
}
