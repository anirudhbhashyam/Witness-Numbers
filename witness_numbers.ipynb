{
 "cells": [
  {
   "cell_type": "code",
   "execution_count": 15,
   "metadata": {},
   "outputs": [],
   "source": [
    "def single_witness(w: int, d: int, defendant: int, m: int) -> bool:\n",
    "    \"\"\"\n",
    "    Checks if the witness w\n",
    "    declares defendant as prime \n",
    "    or not.\n",
    "    \n",
    "    Parameters\n",
    "    ----------\n",
    "    w:\n",
    "\t\tWitness.\n",
    "\td:\n",
    "\t\tPrepared defendant.\n",
    "\t\n",
    "\tdefendant:\n",
    "\t\tNumber to check for \n",
    "\t\tprimality.\n",
    "  \n",
    "\tm:\n",
    "\t\tExponent in \n",
    "  \t\tdefendant = 2^m * d + 1.\n",
    "    \n",
    "    Returns\n",
    "    -------\n",
    "    A bool as the witness \n",
    "    testimony.\n",
    "    \"\"\"\n",
    "    if pow(w, d, defendant) == 1:\n",
    "        return True\n",
    "    \n",
    "    for i in range(m - 1):\n",
    "        if pow(w, 2**i * d, defendant) == defendant - 1:\n",
    "            return True\n",
    "    \n",
    "    return False\n",
    "        \n",
    "\n",
    "def prime_q(defendant: int, witnesses: iter) -> bool:\n",
    "\t\"\"\"\n",
    "\tChecks if defendant is prime.\n",
    "\t\n",
    "\tParameters\n",
    "\t----------\n",
    "\tdefendant:\t\n",
    " \t\tNumber that needs to\n",
    "\t\tbe checked for \n",
    "\t\tprimality.\n",
    "\twitnesses:\t\n",
    "\t\tNumbers to be used \n",
    "\t\tas witnesses.\n",
    "\t\n",
    "\tReturns\n",
    "\t-------\n",
    "\tPrimality as a boolean.\n",
    "\t\"\"\"\n",
    "\tif defendant == 2:\n",
    "\t\treturn True\n",
    "\n",
    "\tif defendant == 1:\n",
    "\t\treturn False\n",
    "\t\n",
    "\tassert sum(1 for n in witnesses if n < 0) == 0, \"Witness numbers need to be positive.\"\n",
    "\tassert defendant % 2 == 1, \"Defendants must be odd.\"\n",
    " \n",
    "\t\n",
    "\t# Choose witness numbers that \n",
    "\t# are less than the defendant.\n",
    "\tif defendant < max(witnesses):\n",
    "\t\twitnesses = witnesses[0 : next(i for i, w in enumerate(witnesses) if w > defendant) - 1]\n",
    " \n",
    "\t# Prepare defendant.\n",
    "\t# Make defendant even.\n",
    "\t# defendant = 2^m * d + 1.\n",
    "\td = defendant - 1\n",
    "\tm = 0\n",
    "\twhile d % 2 == 0:\n",
    "\t\tm, d = m + 1, d // 2 \n",
    " \n",
    "\t# Get witness statements.\n",
    "\t# w^d mod defendant. And \n",
    "\t# check the truth values.\n",
    "\treturn any(single_witness(w, d, defendant, m) for w in witnesses)"
   ]
  },
  {
   "cell_type": "code",
   "execution_count": 19,
   "metadata": {},
   "outputs": [
    {
     "name": "stdout",
     "output_type": "stream",
     "text": [
      "True\n",
      "False\n",
      "True\n",
      "False\n",
      "False\n",
      "True\n",
      "True\n",
      "False\n"
     ]
    }
   ],
   "source": [
    "# Witnesses to be used for numbers < 2^64.\n",
    "master_witnesses_10_21 = [2, 3, 5, 7, 11, 13, 17, 19, 23, 29, 31, 37]\n",
    "\n",
    "print(prime_q(1299709, master_witnesses_10_21))\n",
    "print(prime_q(7801, master_witnesses_10_21))\n",
    "print(prime_q(541, master_witnesses_10_21))\n",
    "print(prime_q(9, master_witnesses_10_21))\n",
    "print(prime_q(103000323, master_witnesses_10_21))\n",
    "print(prime_q(100000000000000003, master_witnesses_10_21))\n",
    "print(prime_q(1000000000000000000000007, master_witnesses_10_21))\n",
    "print(prime_q(675, master_witnesses_10_21))"
   ]
  },
  {
   "cell_type": "code",
   "execution_count": null,
   "metadata": {},
   "outputs": [],
   "source": []
  }
 ],
 "metadata": {
  "interpreter": {
   "hash": "06abd6f173df01cc67518e46e8d6f47a26fcce4fda82d5507cd009e845085f87"
  },
  "kernelspec": {
   "display_name": "Python 3.8.5 64-bit ('mlenv': conda)",
   "language": "python",
   "name": "python3"
  },
  "language_info": {
   "codemirror_mode": {
    "name": "ipython",
    "version": 3
   },
   "file_extension": ".py",
   "mimetype": "text/x-python",
   "name": "python",
   "nbconvert_exporter": "python",
   "pygments_lexer": "ipython3",
   "version": "3.8.5"
  },
  "orig_nbformat": 4
 },
 "nbformat": 4,
 "nbformat_minor": 2
}
